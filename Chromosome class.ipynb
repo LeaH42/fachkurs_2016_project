{
 "cells": [
  {
   "cell_type": "code",
   "execution_count": 7,
   "metadata": {
    "collapsed": false
   },
   "outputs": [
    {
     "name": "stdout",
     "output_type": "stream",
     "text": [
      "deinema\n"
     ]
    }
   ],
   "source": [
    "import sys\n",
    "import random\n",
    "import pandas as pd\n",
    "import numpy as np\n",
    "\n",
    "\n",
    "class Chromosome(object):\n",
    "    \n",
    "    def __init__(self, id , length, sequence, revsequence, fastaname):\n",
    "        self.id=id\n",
    "        self.length=length\n",
    "        self.sequence=sequence\n",
    "        self.revsequence=revsequence\n",
    "        self.fastname=fastaname\n",
    "    \n",
    "    #add befehl   \n",
    "    def __addseq__(self,chromosome):\n",
    "        if not isinstance(chromosome, str):\n",
    "            raise TypeError\n",
    "        self.sequence=self.sequence+chromosome\n",
    "        return self\n",
    "    \n",
    "    def __addrev__(self,chromosome):\n",
    "        if not isinstance(chromosome, str):\n",
    "            raise TypeError\n",
    "        self.revsequence=self.revsequence+chromosome\n",
    "        return self\n",
    "    \n",
    "    #getter für id, sequence & revsequence\n",
    "\n",
    "    @property\n",
    "    def id(self):\n",
    "        return self._id\n",
    "    @id.setter\n",
    "    def id(self, value):\n",
    "        if not isinstance(value, int):\n",
    "            raise TypeError(\"ID must be an Integer.\")\n",
    "        self._id = value\n",
    "        \n",
    "    @property\n",
    "    def sequence(self):\n",
    "        return self._sequence\n",
    "    @sequence.setter\n",
    "    def sequence(self, value):\n",
    "        if not isinstance(value, str):\n",
    "            raise TypeError(\"Sequence must be a String.\")\n",
    "        self._sequence = value\n",
    "        \n",
    "    @property\n",
    "    def revsequence(self):\n",
    "        return self._revsequence\n",
    "    @revsequence.setter\n",
    "    def revsequence(self, value):\n",
    "        if not isinstance(value, str):\n",
    "            raise TypeError(\"RevSequence must be a String.\")\n",
    "        self._revsequence = value\n",
    "        \n",
    "# Objekte erstellen\n",
    "\n",
    "Chromosome1=Chromosome(1,0,\"deinema\",\"\",\"fsa_sequences/S288C_Chromosome I.fsa\")\n",
    "Chromosome2=Chromosome(2,0,\"\",\"\",\"fsa_sequences/S288C_Chromosome II.fsa\")\n",
    "Chromosome3=Chromosome(3,0,\"\",\"\",\"fsa_sequences/S288C_Chromosome III.fsa\")\n",
    "Chromosome4=Chromosome(4,0,\"\",\"\",\"fsa_sequences/S288C_Chromosome IV.fsa\")\n",
    "Chromosome5=Chromosome(5,0,\"\",\"\",\"fsa_sequences/S288C_Chromosome V.fsa\")\n",
    "Chromosome6=Chromosome(6,0,\"\",\"\",\"fsa_sequences/S288C_Chromosome VI.fsa\")\n",
    "Chromosome7=Chromosome(7,0,\"\",\"\",\"fsa_sequences/S288C_Chromosome VII.fsa\")\n",
    "Chromosome8=Chromosome(8,0,\"\",\"\",\"fsa_sequences/S288C_Chromosome VIII.fsa\")\n",
    "Chromosome9=Chromosome(9,0,\"\",\"\",\"fsa_sequences/S288C_Chromosome IX.fsa\")\n",
    "Chromosome10=Chromosome(10,0,\"\",\"\",\"fsa_sequences/S288C_Chromosome X.fsa\")\n",
    "Chromosome11=Chromosome(11,0,\"\",\"\",\"fsa_sequences/S288C_Chromosome XI.fsa\")\n",
    "Chromosome12=Chromosome(12,0,\"\",\"\",\"fsa_sequences/S288C_Chromosome XII.fsa\")\n",
    "Chromosome13=Chromosome(13,0,\"\",\"\",\"fsa_sequences/S288C_Chromosome XIII.fsa\")\n",
    "Chromosome14=Chromosome(14,0,\"\",\"\",\"fsa_sequences/S288C_Chromosome XIV.fsa\")\n",
    "Chromosome15=Chromosome(15,0,\"\",\"\",\"fsa_sequences/S288C_Chromosome XV.fsa\")\n",
    "Chromosome16=Chromosome(16,0,\"\",\"\",\"fsa_sequences/S288C_Chromosome XVI.fsa\")\n",
    "Chromosomemito=Chromosome(17,0,\"\",\"\",\"fsa_sequences/S288C_Chromosome Mito.fsa\")\n",
    "\n",
    "print(Chromosome1.sequence)  \n",
    "    \n",
    "\n",
    "\n",
    "\n"
   ]
  },
  {
   "cell_type": "code",
   "execution_count": null,
   "metadata": {
    "collapsed": true
   },
   "outputs": [],
   "source": []
  }
 ],
 "metadata": {
  "kernelspec": {
   "display_name": "Python 3",
   "language": "python",
   "name": "python3"
  },
  "language_info": {
   "codemirror_mode": {
    "name": "ipython",
    "version": 3
   },
   "file_extension": ".py",
   "mimetype": "text/x-python",
   "name": "python",
   "nbconvert_exporter": "python",
   "pygments_lexer": "ipython3",
   "version": "3.5.1"
  }
 },
 "nbformat": 4,
 "nbformat_minor": 0
}
