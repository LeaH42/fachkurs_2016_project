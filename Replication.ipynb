{
 "cells": [
  {
   "cell_type": "code",
   "execution_count": 53,
   "metadata": {
    "collapsed": false
   },
   "outputs": [
    {
     "name": "stdout",
     "output_type": "stream",
     "text": [
      "10\n",
      "['A', 'G', 'C', 'T', 'T', 'G', 'A', 'C', 'T', 'A']\n",
      "['T', 'C', 'G', 'A', 'A', 'C', 'T', 'G', 'A', 'T']\n",
      "['A', 'G', 'C', 'T', 'T', 'G', 'A', 'C', 'T', 'A']\n"
     ]
    }
   ],
   "source": [
    "from molecules import BioMoleculeCount\n",
    "class chromosome:\n",
    "    def __init__(self, sequence):\n",
    "        self.sequence = sequence\n",
    "#BioM class PM, He\n",
    "# wenn He gebunden, PM bindet (if bound...)\n",
    "\n",
    "class Replication:\n",
    "    def __init__(self, sequence):\n",
    "        super.__init__(sequence)\n",
    "        \n",
    "    def update():\n",
    "        #state\n",
    "        pass\n",
    "    \n",
    "    def initiate():\n",
    "        #BioMolcount\n",
    "        pass\n",
    "    \n",
    "    def elongate():\n",
    "        #rate\n",
    "        #compl()\n",
    "        pass\n",
    "    \n",
    "    def terminate():\n",
    "        #BioMolcount\n",
    "        pass\n",
    "\n",
    "chrom1 = chromosome(['A','G','C','T','T','G','A','C','T','A'])\n",
    "chrom1.sequence\n",
    "\n",
    "def length():\n",
    "    print(len(chrom1.sequence))\n",
    "\n",
    "#replicated complementary strand\n",
    "comp_strand = []\n",
    "\n",
    "#replicated original strand\n",
    "ori_strand = []\n",
    "\n",
    "#Origins\n",
    "#wahrscheinlichkeiten für falsche Nukleotide\n",
    "#comp+ori\n",
    "#Rate\n",
    "#Wann initiate? vllt ab bestimmter Anzahl an Proteine\n",
    "\n",
    "#energie?\n",
    "\n",
    "def nucleotide_complement():\n",
    "    \n",
    "    for i in chrom1.sequence:\n",
    "        for x in chrom1.sequence:\n",
    "            if x == 'A':\n",
    "                comp_strand.append('T')\n",
    "                ori_strand.append('A')\n",
    "            if x == 'T':\n",
    "                comp_strand.append('A')\n",
    "                ori_strand.append('T')\n",
    "            if x == 'G':\n",
    "                comp_strand.append('C')\n",
    "                ori_strand.append('G')\n",
    "            if x == 'C':\n",
    "                comp_strand.append('G')\n",
    "                ori_strand.append('C')\n",
    "        return comp_strand\n",
    "\n",
    "\n",
    "    \n",
    "nucleotide_complement()\n",
    "length()\n",
    "\n",
    "print(chrom1.sequence)\n",
    "print(comp_strand)\n",
    "print(ori_strand)\n",
    "\n",
    "\n",
    "\n",
    "    "
   ]
  },
  {
   "cell_type": "code",
   "execution_count": null,
   "metadata": {
    "collapsed": true
   },
   "outputs": [],
   "source": []
  }
 ],
 "metadata": {
  "kernelspec": {
   "display_name": "Python 3",
   "language": "python",
   "name": "python3"
  },
  "language_info": {
   "codemirror_mode": {
    "name": "ipython",
    "version": 3
   },
   "file_extension": ".py",
   "mimetype": "text/x-python",
   "name": "python",
   "nbconvert_exporter": "python",
   "pygments_lexer": "ipython3",
   "version": "3.4.3"
  }
 },
 "nbformat": 4,
 "nbformat_minor": 0
}
