{
 "cells": [
  {
   "cell_type": "code",
   "execution_count": 4,
   "metadata": {
    "collapsed": false
   },
   "outputs": [
    {
     "name": "stdout",
     "output_type": "stream",
     "text": [
      "deinema\n"
     ]
    }
   ],
   "source": [
    "import sys\n",
    "import random\n",
    "import pandas as pd\n",
    "import numpy as np\n",
    "\n",
    "\n",
    "class Chromosome(object):\n",
    "    \n",
    "    def __init__(self, id , length, sequence, revsequence, fastaname):\n",
    "        self._id=id\n",
    "        self._length=length\n",
    "        self._sequence=sequence\n",
    "        self._revsequence=revsequence\n",
    "        self._fastname=fastaname\n",
    "    \n",
    "    #add befehl   \n",
    "    def __add__(self,chromosome):\n",
    "        if not isinstance(chromosome,Chromosome):\n",
    "            raise TypeError\n",
    "        self.sequence=self.sequence+ chromosome.sequence\n",
    "        self.revsequence=self.revsequence+ chromosome.revsequence\n",
    "        return self\n",
    "    \n",
    "    \n",
    "    #getter für id, sequence & revsequence\n",
    "\n",
    "    @property\n",
    "    def id(self):\n",
    "        return self._id\n",
    "    @id.setter\n",
    "    def id(self, value):\n",
    "        if not isinstance(value, int):\n",
    "            raise TypeError(\"ID must be an Integer.\")\n",
    "        self._id = value\n",
    "        \n",
    "    @property\n",
    "    def sequence(self):\n",
    "        return self._sequence\n",
    "    @sequence.setter\n",
    "    def sequence(self, value):\n",
    "        if not isinstance(value, str):\n",
    "            raise TypeError(\"Sequence must be a String.\")\n",
    "        self._sequence = value\n",
    "        \n",
    "    @property\n",
    "    def revsequence(self):\n",
    "        return self._revsequence\n",
    "    @revsequence.setter\n",
    "    def revsequence(self, value):\n",
    "        if not isinstance(value, str):\n",
    "            raise TypeError(\"RevSequence must be a String.\")\n",
    "        self._revsequence = value\n",
    "        \n",
    "# Objekte erstellen\n",
    "#objekte immer klein schrieben und vlt auch abkürzen -> Chromosome1 = chr1\n",
    "\n",
    "def createchromosome():\n",
    "    \n",
    "    chr1=Chromosome(1,0,\"deinema\",\"\",\"fsa_sequences/S288C_Chromosome I.fsa\")\n",
    "    chr2=Chromosome(2,0,\"\",\"\",\"fsa_sequences/S288C_Chromosome II.fsa\")\n",
    "    chr3=Chromosome(3,0,\"\",\"\",\"fsa_sequences/S288C_Chromosome III.fsa\")\n",
    "    chr4=Chromosome(4,0,\"\",\"\",\"fsa_sequences/S288C_Chromosome IV.fsa\")\n",
    "    chr5=Chromosome(5,0,\"\",\"\",\"fsa_sequences/S288C_Chromosome V.fsa\")\n",
    "    chr6=Chromosome(6,0,\"\",\"\",\"fsa_sequences/S288C_Chromosome VI.fsa\")\n",
    "    chr7=Chromosome(7,0,\"\",\"\",\"fsa_sequences/S288C_Chromosome VII.fsa\")\n",
    "    chr8=Chromosome(8,0,\"\",\"\",\"fsa_sequences/S288C_Chromosome VIII.fsa\")\n",
    "    chr9=Chromosome(9,0,\"\",\"\",\"fsa_sequences/S288C_Chromosome IX.fsa\")\n",
    "    chr10=Chromosome(10,0,\"\",\"\",\"fsa_sequences/S288C_Chromosome X.fsa\")\n",
    "    chr11=Chromosome(11,0,\"\",\"\",\"fsa_sequences/S288C_Chromosome XI.fsa\")\n",
    "    chr12=Chromosome(12,0,\"\",\"\",\"fsa_sequences/S288C_Chromosome XII.fsa\")\n",
    "    chr13=Chromosome(13,0,\"\",\"\",\"fsa_sequences/S288C_Chromosome XIII.fsa\")\n",
    "    chr14=Chromosome(14,0,\"\",\"\",\"fsa_sequences/S288C_Chromosome XIV.fsa\")\n",
    "    chr15=Chromosome(15,0,\"\",\"\",\"fsa_sequences/S288C_Chromosome XV.fsa\")\n",
    "    chr16=Chromosome(16,0,\"\",\"\",\"fsa_sequences/S288C_Chromosome XVI.fsa\")\n",
    "    chrmito=Chromosome(17,0,\"\",\"\",\"fsa_sequences/S288C_Chromosome Mito.fsa\")\n",
    "\n",
    "    chr_list=[chr1,chr2,chr3,chr4,chr5,chr6,chr7,chr8,chr9,chr10,chr11,chr12,chr13,chr14,chr15,chr16,chrmito]\n",
    "    \n",
    "    return chr_list\n",
    "\n",
    "    \n",
    "getchr=createchromosome()\n",
    "print(getchr[0].sequence)\n",
    "    \n",
    "\n",
    "\n",
    "\n"
   ]
  },
  {
   "cell_type": "code",
   "execution_count": null,
   "metadata": {
    "collapsed": true
   },
   "outputs": [],
   "source": []
  }
 ],
 "metadata": {
  "kernelspec": {
   "display_name": "Python 3",
   "language": "python",
   "name": "python3"
  },
  "language_info": {
   "codemirror_mode": {
    "name": "ipython",
    "version": 3
   },
   "file_extension": ".py",
   "mimetype": "text/x-python",
   "name": "python",
   "nbconvert_exporter": "python",
   "pygments_lexer": "ipython3",
   "version": "3.5.1"
  }
 },
 "nbformat": 4,
 "nbformat_minor": 0
}
